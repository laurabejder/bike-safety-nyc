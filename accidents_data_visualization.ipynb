{
 "cells": [
  {
   "cell_type": "code",
   "execution_count": null,
   "metadata": {},
   "outputs": [],
   "source": [
    "import pandas as pd"
   ]
  },
  {
   "cell_type": "code",
   "execution_count": null,
   "metadata": {},
   "outputs": [],
   "source": [
    "df = pd.read_csv('data/nyc_bike_accidents.csv')\n",
    "pd.options.display.max_columns = 50"
   ]
  },
  {
   "cell_type": "code",
   "execution_count": null,
   "metadata": {},
   "outputs": [],
   "source": [
    "df['CRASH DATE'] = pd.to_datetime(df['CRASH DATE'])\n",
    "\n",
    "\n",
    "df['YEAR'] = df['CRASH DATE'].dt.strftime('%Y')\n",
    "df"
   ]
  },
  {
   "cell_type": "code",
   "execution_count": null,
   "metadata": {},
   "outputs": [],
   "source": [
    "df.groupby('YEAR').sum('NUMBER OF PERSONS KILLED')"
   ]
  },
  {
   "cell_type": "code",
   "execution_count": null,
   "metadata": {},
   "outputs": [],
   "source": [
    "# Get only the data from 2022\n",
    "df_2022 = df[df['YEAR'] == '2022']\n",
    "\n",
    "# Get only the columns we need\n",
    "df_2022 = df_2022[['CRASH DATE', 'CRASH TIME', 'BOROUGH', 'ZIP CODE', 'LATITUDE', 'LONGITUDE', 'NUMBER OF CYCLIST KILLED', 'NUMBER OF CYCLIST INJURED']]\n",
    "\n",
    "# And create new columns that will be used for visualization\n",
    "df_2022['ACCIDENT TYPE'] = 0\n",
    "\n",
    "df_2022.loc[df_2022['NUMBER OF CYCLIST INJURED'] > 0, 'ACCIDENT TYPE'] = 'Injured'\n",
    "df_2022.loc[df_2022['NUMBER OF CYCLIST KILLED'] > 0, 'ACCIDENT TYPE'] = 'Fatal'\n",
    "\n",
    "df_2022['INJURED OR DEATH'] = df_2022['NUMBER OF CYCLIST KILLED'] + df_2022['NUMBER OF CYCLIST INJURED']\n",
    "\n",
    "df_2022.dropna(subset=['LATITUDE', 'LONGITUDE'], inplace=True)\n"
   ]
  },
  {
   "cell_type": "code",
   "execution_count": null,
   "metadata": {},
   "outputs": [],
   "source": [
    "df_2022.to_csv('data/nyc_bike_crashes_2022.csv')"
   ]
  },
  {
   "cell_type": "code",
   "execution_count": null,
   "metadata": {},
   "outputs": [],
   "source": [
    "accidents = pd.read_csv('data/nyc_bike_accidents.csv')\n",
    "\n",
    "bikers = pd.read_csv('data/nyc_bikerides_numbers.csv')"
   ]
  },
  {
   "cell_type": "code",
   "execution_count": null,
   "metadata": {},
   "outputs": [],
   "source": [
    "accidents['CRASH DATE'] = pd.to_datetime(accidents['CRASH DATE'])\n",
    "\n",
    "accidents['YEAR'] = accidents['CRASH DATE'].dt.strftime('%Y')\n",
    "\n",
    "accidents_year = accidents.groupby('YEAR').sum('NUMBER OF PERSONS KILLED')\n",
    "accidents_year = accidents_year[['NUMBER OF CYCLIST INJURED', 'NUMBER OF CYCLIST KILLED']]\n",
    "accidents_year"
   ]
  },
  {
   "cell_type": "code",
   "execution_count": null,
   "metadata": {},
   "outputs": [],
   "source": [
    "accidents_year = accidents_year.reset_index()\n",
    "\n",
    "accidents_year.rename(columns={\"YEAR\": \"year\", \"NUMBER OF CYCLIST INJURED\": \"injured\", \"NUMBER OF CYCLIST KILLED\": \"killed\"}, inplace=True)\n",
    "\n",
    "accidents_year"
   ]
  },
  {
   "cell_type": "code",
   "execution_count": null,
   "metadata": {},
   "outputs": [],
   "source": [
    "bikers['year'] = bikers['Unnamed: 0']\n",
    "bikers = bikers[['year', 'Total Daily Cycling Trips']]\n",
    "bikers"
   ]
  },
  {
   "cell_type": "code",
   "execution_count": null,
   "metadata": {},
   "outputs": [],
   "source": [
    "bikers.drop([13], inplace=True)\n",
    "bikers"
   ]
  },
  {
   "cell_type": "code",
   "execution_count": null,
   "metadata": {},
   "outputs": [],
   "source": [
    "bikers_accidents = pd.merge(accidents_year, bikers, on=['year'], how='left')\n",
    "\n",
    "bikers_accidents['injury_rate'] = bikers_accidents['injured'] / bikers_accidents['Total Daily Cycling Trips']\n",
    "bikers_accidents['fatality_rate'] = bikers_accidents['killed'] / bikers_accidents['Total Daily Cycling Trips']\n",
    "\n",
    "\n",
    "bikers_accidents.rename({'Total Daily Cycling Trips': 'total_daily_bikerides'}, axis=1, inplace=True)\n",
    "\n",
    "bikers_accidents.to_csv('data/accidents_development.csv')"
   ]
  }
 ],
 "metadata": {
  "kernelspec": {
   "display_name": "Python 3.11.0rc2 64-bit ('3.11.0rc2')",
   "language": "python",
   "name": "python3"
  },
  "language_info": {
   "codemirror_mode": {
    "name": "ipython",
    "version": 3
   },
   "file_extension": ".py",
   "mimetype": "text/x-python",
   "name": "python",
   "nbconvert_exporter": "python",
   "pygments_lexer": "ipython3",
   "version": "3.11.0rc2"
  },
  "orig_nbformat": 4,
  "vscode": {
   "interpreter": {
    "hash": "fa07e5dff76123542c28abca75c0e47ea742948dbeeb360ccfbd2a5c7c277f8b"
   }
  }
 },
 "nbformat": 4,
 "nbformat_minor": 2
}
