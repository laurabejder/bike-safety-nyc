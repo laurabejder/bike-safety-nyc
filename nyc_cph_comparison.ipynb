{
 "cells": [
  {
   "cell_type": "markdown",
   "metadata": {},
   "source": [
    "## Notebook bla bla bla\n",
    "\n",
    "What do I do in this notebook"
   ]
  },
  {
   "cell_type": "code",
   "execution_count": null,
   "metadata": {},
   "outputs": [],
   "source": [
    "import pandas as pd\n",
    "pd.options.display.max_columns = 50"
   ]
  },
  {
   "cell_type": "code",
   "execution_count": null,
   "metadata": {},
   "outputs": [],
   "source": [
    "# Load in the data\n",
    "\n",
    "nyc_accidents = pd.read_csv('data/nyc_bike_accidents.csv')\n",
    "cph_accidents = pd.read_csv('data/cph_bike_accidents.csv')"
   ]
  },
  {
   "cell_type": "markdown",
   "metadata": {},
   "source": [
    "### STEP 1: Combine the data"
   ]
  },
  {
   "cell_type": "code",
   "execution_count": null,
   "metadata": {},
   "outputs": [],
   "source": [
    "# Rename the first column to make it easier to understand\n",
    "cph_accidents.rename(columns={\"Tilskadekomne og dræbte i færdselsuheld efter indblandede transportmidler, område, personskade og tid: Cykel\": \"injury_death\"}, inplace=True)\n",
    "\n",
    "# Get the data for 2021\n",
    "cph_accidents_2021 = cph_accidents[['injury_death', \"Area\", \"2021\"]]\n",
    "\n",
    "# Drop the last row which contains a note about the dataset, not actual data.\n",
    "cph_accidents_2021.drop([6], inplace=True)\n",
    "\n",
    "# Rename the columns to make it easier to understand and combine the two categories of injured cyclists (mild injury and serious injury) into one\n",
    "cph_accidents_2021 = cph_accidents_2021.replace({'injury_death': {'Dræbte': 'NUMBER OF CYCLIST KILLED', 'Alvorligt tilskadekomne': 'NUMBER OF CYCLIST INJURED', 'Lettere tilskadekomne': 'NUMBER OF CYCLIST INJURED'}})\n",
    "\n",
    "cph_accidents_2021 = cph_accidents_2021.groupby(['injury_death', 'Area']).sum().reset_index()\n",
    "\n",
    "\n",
    "# And pivot to get Copenhagen and Frederiksberg in seperate columns. Ready to append the data from NYC.\n",
    "cph_accidents_2021 = cph_accidents_2021.pivot(index='Area', columns='injury_death', values='2021').reset_index()\n",
    "cph_accidents_2021"
   ]
  },
  {
   "cell_type": "code",
   "execution_count": null,
   "metadata": {},
   "outputs": [],
   "source": [
    "# Since the latest accident in Copenhagen is from 2021, we will only look at accidents from 2021 in New York City.\n",
    "\n",
    "nyc_accidents['CRASH DATE'] = pd.to_datetime(nyc_accidents['CRASH DATE'])\n",
    "\n",
    "nyc_accidents['YEAR'] = nyc_accidents['CRASH DATE'].dt.strftime('%Y')\n",
    "\n",
    "nyc_accidents = nyc_accidents.groupby('YEAR').sum('NUMBER OF PERSONS KILLED')\n",
    "nyc_accidents = nyc_accidents[['NUMBER OF CYCLIST INJURED', 'NUMBER OF CYCLIST KILLED']].reset_index()\n",
    "nyc_accidents\n",
    "\n",
    "nyc_accidents = nyc_accidents[nyc_accidents['YEAR'].str.contains('2021')]\n",
    "nyc_accidents['YEAR'].replace({'2021': 'New York City'}, inplace=True)\n",
    "\n",
    "nyc_accidents.rename(columns={\"YEAR\": \"Area\"}, inplace=True)\n",
    "\n",
    "nyc_accidents"
   ]
  },
  {
   "cell_type": "code",
   "execution_count": 243,
   "metadata": {},
   "outputs": [
    {
     "name": "stderr",
     "output_type": "stream",
     "text": [
      "/var/folders/hx/m3n3wwr91yg_snnv68ynqsp80000gn/T/ipykernel_7355/1891637644.py:1: FutureWarning: The frame.append method is deprecated and will be removed from pandas in a future version. Use pandas.concat instead.\n",
      "  accidents = cph_accidents_2021.append(nyc_accidents, ignore_index=True)\n"
     ]
    },
    {
     "data": {
      "text/html": [
       "<div>\n",
       "<style scoped>\n",
       "    .dataframe tbody tr th:only-of-type {\n",
       "        vertical-align: middle;\n",
       "    }\n",
       "\n",
       "    .dataframe tbody tr th {\n",
       "        vertical-align: top;\n",
       "    }\n",
       "\n",
       "    .dataframe thead th {\n",
       "        text-align: right;\n",
       "    }\n",
       "</style>\n",
       "<table border=\"1\" class=\"dataframe\">\n",
       "  <thead>\n",
       "    <tr style=\"text-align: right;\">\n",
       "      <th></th>\n",
       "      <th>Area</th>\n",
       "      <th>NUMBER OF CYCLIST INJURED</th>\n",
       "      <th>NUMBER OF CYCLIST KILLED</th>\n",
       "    </tr>\n",
       "  </thead>\n",
       "  <tbody>\n",
       "    <tr>\n",
       "      <th>0</th>\n",
       "      <td>Copenhagen</td>\n",
       "      <td>167.0</td>\n",
       "      <td>3.0</td>\n",
       "    </tr>\n",
       "    <tr>\n",
       "      <th>1</th>\n",
       "      <td>Frederiksberg</td>\n",
       "      <td>25.0</td>\n",
       "      <td>0.0</td>\n",
       "    </tr>\n",
       "    <tr>\n",
       "      <th>2</th>\n",
       "      <td>New York City</td>\n",
       "      <td>4961.0</td>\n",
       "      <td>19.0</td>\n",
       "    </tr>\n",
       "  </tbody>\n",
       "</table>\n",
       "</div>"
      ],
      "text/plain": [
       "            Area  NUMBER OF CYCLIST INJURED  NUMBER OF CYCLIST KILLED\n",
       "0     Copenhagen                      167.0                       3.0\n",
       "1  Frederiksberg                       25.0                       0.0\n",
       "2  New York City                     4961.0                      19.0"
      ]
     },
     "execution_count": 243,
     "metadata": {},
     "output_type": "execute_result"
    }
   ],
   "source": [
    "accidents = cph_accidents_2021.append(nyc_accidents, ignore_index=True)\n",
    "\n",
    "accidents"
   ]
  },
  {
   "cell_type": "markdown",
   "metadata": {},
   "source": [
    "### STEP 2: Standardize the data\n",
    "\n",
    "I now have a dataframe with the number of injuries and fatalities in Copenhagen, Frederiksberg (a part of Copenhagen, will be merged with the rest of Copenhagen later) and New York City. I want to standardize the data so that I can compare the number of injuries and fatalities per share of the population that bikes. \n",
    "\n",
    "According to [NYC DOT](https://www.nyc.gov/html/dot/downloads/pdf/cycling-in-the-city-2021.pdf), 773,000 New Yorkers bike regularly (several times a month).\n",
    "\n"
   ]
  }
 ],
 "metadata": {
  "kernelspec": {
   "display_name": "Python 3.11.0rc2 64-bit ('3.11.0rc2')",
   "language": "python",
   "name": "python3"
  },
  "language_info": {
   "codemirror_mode": {
    "name": "ipython",
    "version": 3
   },
   "file_extension": ".py",
   "mimetype": "text/x-python",
   "name": "python",
   "nbconvert_exporter": "python",
   "pygments_lexer": "ipython3",
   "version": "3.11.0rc2"
  },
  "orig_nbformat": 4,
  "vscode": {
   "interpreter": {
    "hash": "fa07e5dff76123542c28abca75c0e47ea742948dbeeb360ccfbd2a5c7c277f8b"
   }
  }
 },
 "nbformat": 4,
 "nbformat_minor": 2
}
